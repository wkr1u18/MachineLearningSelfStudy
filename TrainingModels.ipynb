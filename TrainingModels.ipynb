{
 "cells": [
  {
   "cell_type": "markdown",
   "metadata": {},
   "source": [
    "# Linear regression\n",
    "Two approaches:\n",
    "\n",
    "- Direct \"closed-form\" equation involving either inverse of $A^T*A$ or Moore-Penrose pseudoinverse\n",
    "- Iterative optimisation using Gradient Descent (GD) or its' variants: Stochastic GD, Batch GD and Mini Batch GD\n",
    "\n",
    "Linear Regression model:\n",
    "$$ \\hat{y} = \\theta_{0}+\\theta_{1}x_{1} + \\cdots + \\theta_{n}x_{n}$$\n",
    "\n",
    "Where:\n",
    "- $\\hat{y}$ is a predicted value\n",
    "- $n$ is the number of features\n",
    "- $x_{i}$ is the i-th feature value\n",
    "- $\\theta_{j}$ is the j-th model parameter (including the bias term $\\theta_{0}$ and the feature weights $\\theta_{1}, \\cdots, \\theta_{n}$)\n",
    "\n",
    "In vectorised form:\n",
    "$$\\hat{y}=h_{\\theta}(x)=\\theta \\cdot x$$\n",
    "\n",
    "It's worth remembering that $x_{0}$ is equal to 1 - bias unit\n",
    "\n",
    "Often vectors are represented as column vectors, so if $\\theta$ and $x$ are column vectors then the prediction $\\hat{y}=\\theta^{T}x$\n",
    "\n",
    "MSE cost function for linear model:\n",
    "\n",
    "$MSE(X,h_{\\theta})=\\frac{1}{m}\\sum_{i=1}^{m} (\\theta^{T}x^{(i)}-y^{(i)})^2$\n",
    "\n",
    "## The normal equation\n",
    "\n",
    "$$\\hat{\\theta} = (X^{T}X)^{-1}X^{T}y$$"
   ]
  },
  {
   "cell_type": "code",
   "execution_count": 4,
   "metadata": {},
   "outputs": [
    {
     "data": {
      "text/plain": [
       "<matplotlib.collections.PathCollection at 0x7fe278fc9110>"
      ]
     },
     "execution_count": 4,
     "metadata": {},
     "output_type": "execute_result"
    },
    {
     "data": {
      "image/png": "[encoded data removed]",
      "text/plain": [
       "<Figure size 432x288 with 1 Axes>"
      ]
     },
     "metadata": {
      "needs_background": "light"
     },
     "output_type": "display_data"
    }
   ],
   "source": [
    "import numpy as np\n",
    "\n",
    "X = 2 * np.random.rand(100,1)\n",
    "y = 4 + 3 * X + np.random.randn(100,1)\n",
    "\n",
    "%matplotlib inline\n",
    "import matplotlib.pyplot as plt\n",
    "plt.scatter(X, y)"
   ]
  },
  {
   "cell_type": "code",
   "execution_count": 6,
   "metadata": {},
   "outputs": [
    {
     "data": {
      "text/plain": [
       "array([[1.        , 0.68360917],\n",
       "       [1.        , 1.46193525],\n",
       "       [1.        , 0.01394589],\n",
       "       [1.        , 1.56202348],\n",
       "       [1.        , 0.58222836],\n",
       "       [1.        , 1.40106264],\n",
       "       [1.        , 1.82347637],\n",
       "       [1.        , 0.0707984 ],\n",
       "       [1.        , 1.88950471],\n",
       "       [1.        , 1.55743816],\n",
       "       [1.        , 0.13403007],\n",
       "       [1.        , 1.71817475],\n",
       "       [1.        , 1.67543869],\n",
       "       [1.        , 0.32925992],\n",
       "       [1.        , 1.81115712],\n",
       "       [1.        , 1.94061659],\n",
       "       [1.        , 0.74358218],\n",
       "       [1.        , 1.62352951],\n",
       "       [1.        , 0.85013593],\n",
       "       [1.        , 1.16032732],\n",
       "       [1.        , 0.75456628],\n",
       "       [1.        , 1.65270258],\n",
       "       [1.        , 0.30919923],\n",
       "       [1.        , 1.39179242],\n",
       "       [1.        , 0.19809255],\n",
       "       [1.        , 1.35839127],\n",
       "       [1.        , 0.97550158],\n",
       "       [1.        , 1.18649281],\n",
       "       [1.        , 0.31425358],\n",
       "       [1.        , 1.23397284],\n",
       "       [1.        , 0.72774697],\n",
       "       [1.        , 0.63271843],\n",
       "       [1.        , 1.9850223 ],\n",
       "       [1.        , 1.95924953],\n",
       "       [1.        , 0.91214363],\n",
       "       [1.        , 0.15899743],\n",
       "       [1.        , 0.12700522],\n",
       "       [1.        , 0.89147709],\n",
       "       [1.        , 1.2040648 ],\n",
       "       [1.        , 1.66581266],\n",
       "       [1.        , 1.46772897],\n",
       "       [1.        , 0.92502036],\n",
       "       [1.        , 1.09573552],\n",
       "       [1.        , 0.08098029],\n",
       "       [1.        , 0.23468603],\n",
       "       [1.        , 0.4589653 ],\n",
       "       [1.        , 1.39025151],\n",
       "       [1.        , 1.3630364 ],\n",
       "       [1.        , 0.99867161],\n",
       "       [1.        , 0.82625522],\n",
       "       [1.        , 0.00856262],\n",
       "       [1.        , 0.68320448],\n",
       "       [1.        , 0.1687999 ],\n",
       "       [1.        , 0.06822567],\n",
       "       [1.        , 1.89854257],\n",
       "       [1.        , 1.45635749],\n",
       "       [1.        , 0.54398447],\n",
       "       [1.        , 0.28981234],\n",
       "       [1.        , 1.71162788],\n",
       "       [1.        , 1.66409764],\n",
       "       [1.        , 0.33115063],\n",
       "       [1.        , 0.13141482],\n",
       "       [1.        , 1.22724708],\n",
       "       [1.        , 1.75711233],\n",
       "       [1.        , 1.6270382 ],\n",
       "       [1.        , 1.28958396],\n",
       "       [1.        , 1.05202995],\n",
       "       [1.        , 1.53746903],\n",
       "       [1.        , 1.11480443],\n",
       "       [1.        , 1.60839277],\n",
       "       [1.        , 0.01213783],\n",
       "       [1.        , 1.85022607],\n",
       "       [1.        , 0.68640338],\n",
       "       [1.        , 0.09386791],\n",
       "       [1.        , 1.68067962],\n",
       "       [1.        , 1.70517627],\n",
       "       [1.        , 0.13260206],\n",
       "       [1.        , 0.11974434],\n",
       "       [1.        , 1.61161718],\n",
       "       [1.        , 1.33191752],\n",
       "       [1.        , 1.1427297 ],\n",
       "       [1.        , 0.15597223],\n",
       "       [1.        , 1.62905966],\n",
       "       [1.        , 0.37256443],\n",
       "       [1.        , 1.98465301],\n",
       "       [1.        , 0.56143976],\n",
       "       [1.        , 0.17870958],\n",
       "       [1.        , 1.17818004],\n",
       "       [1.        , 1.56590707],\n",
       "       [1.        , 0.86523826],\n",
       "       [1.        , 0.85709806],\n",
       "       [1.        , 0.85788022],\n",
       "       [1.        , 1.38317018],\n",
       "       [1.        , 0.5450032 ],\n",
       "       [1.        , 0.29120863],\n",
       "       [1.        , 1.74898222],\n",
       "       [1.        , 1.23209004],\n",
       "       [1.        , 1.14395325],\n",
       "       [1.        , 0.60611176],\n",
       "       [1.        , 1.00592382]])"
      ]
     },
     "execution_count": 6,
     "metadata": {},
     "output_type": "execute_result"
    }
   ],
   "source": [
    "# Add bias vector for each data point\n",
    "\n",
    "X_b = np.c_[np.ones((100,1)), X]\n",
    "X_b"
   ]
  },
  {
   "cell_type": "code",
   "execution_count": 7,
   "metadata": {},
   "outputs": [],
   "source": [
    "theta_best = np.linalg.inv(X_b.T.dot(X_b)).dot(X_b.T).dot(y)"
   ]
  },
  {
   "cell_type": "code",
   "execution_count": 8,
   "metadata": {},
   "outputs": [
    {
     "data": {
      "text/plain": [
       "array([[3.67688631],\n",
       "       [3.19689476]])"
      ]
     },
     "execution_count": 8,
     "metadata": {},
     "output_type": "execute_result"
    }
   ],
   "source": [
    "theta_best"
   ]
  },
  {
   "cell_type": "code",
   "execution_count": 12,
   "metadata": {},
   "outputs": [
    {
     "data": {
      "text/plain": [
       "[<matplotlib.lines.Line2D at 0x7fe2761bfb90>]"
      ]
     },
     "execution_count": 12,
     "metadata": {},
     "output_type": "execute_result"
    },
    {
     "data": {
      "image/png": "[encoded data removed]",
      "text/plain": [
       "<Figure size 432x288 with 1 Axes>"
      ]
     },
     "metadata": {
      "needs_background": "light"
     },
     "output_type": "display_data"
    }
   ],
   "source": [
    "X_new = np.array([[0],[2]])\n",
    "X_new_b = np.c_[np.ones((2,1)), X_new]\n",
    "y_predict = X_new_b.dot(theta_best)\n",
    "plt.plot(X_new, y_predict, \"r-\")\n",
    "plt.plot(X,y, \"b.\")"
   ]
  },
  {
   "cell_type": "markdown",
   "metadata": {},
   "source": [
    "## Moore-Penrose pseudoinverse\n",
    "\n",
    "Normal equation computers the inverse of $(n+1) \\cdot (n+1)$ sized matrix, and inverting the matrix takes between $O(n^{2,4})$ and $O(n^3)$, so if you double the number of features the computation time grows by roughly 5.3 to 8 times. Also $A^{T}A$ might not be invertible (eg. m<n or it is singular). There is another method which is called Moore-Penrose pseudoinverse and involves decomposition into SVD:\n",
    "$$X=U\\Sigma V^{T}$$ and then taking the reciporial of $\\Sigma$, so the pseudoinverse is:\n",
    "$$X^{+}=V\\Sigma^{+}U^{T}$$\n"
   ]
  },
  {
   "cell_type": "code",
   "execution_count": 52,
   "metadata": {},
   "outputs": [
    {
     "data": {
      "text/plain": [
       "array([[3.67688631],\n",
       "       [3.19689476]])"
      ]
     },
     "execution_count": 52,
     "metadata": {},
     "output_type": "execute_result"
    }
   ],
   "source": [
    "n = 100\n",
    "U, s, VT = np.linalg.svd(X_b)\n",
    "Sigma = np.concatenate((np.diag(1/s),np.zeros((n-s.size,s.size))),axis=0)\n",
    "X_hat = U.dot(Sigma.dot(VT))\n",
    "X_hat.T.dot(y)"
   ]
  },
  {
   "cell_type": "markdown",
   "metadata": {},
   "source": [
    "Basically same result as closed form equation."
   ]
  },
  {
   "cell_type": "markdown",
   "metadata": {},
   "source": [
    "# Batch gradient descent\n",
    "Partial derivatives of cost function:\n",
    "\n",
    "$$\\frac{\\delta}{\\delta\\theta_{j}}MSE(\\theta)=\\frac{2}{m}\\sum_{i=1}^{m}(\\theta^{T}x^{(i)}-y^{(i)})x_{j}^{(i)}$$\n",
    "\n",
    "Gradient vector of the cost function:\n",
    "$$\\nabla_{\\theta}MSE(\\theta)=\\begin{pmatrix}\n",
    "\\frac{\\delta}{\\delta\\theta_{0}}MSE(\\theta) \\\\\n",
    "\\frac{\\delta}{\\delta\\theta_{1}}MSE(\\theta) \\\\\n",
    "\\cdots \\\\\n",
    "\\frac{\\delta}{\\delta\\theta_{n}}MSE(\\theta)\n",
    "\\end{pmatrix}=\\frac{2}{m}X^{T}(X\\theta - y)$$\n",
    "\n",
    "Gradient Descent step:\n",
    "$$\\theta^{(i+1)}=\\theta - \\eta\\nabla_{\\theta}MSE(\\theta)$$\n",
    "where $\\eta$ is the learning rate"
   ]
  },
  {
   "cell_type": "code",
   "execution_count": 55,
   "metadata": {},
   "outputs": [
    {
     "name": "stdout",
     "output_type": "stream",
     "text": [
      "[[3.67688631]\n",
      " [3.19689476]]\n"
     ]
    }
   ],
   "source": [
    "eta = 0.1 #learning rate \n",
    "n_iterations = 1000\n",
    "m = 100 #size of dataset\n",
    "\n",
    "theta = np.random.randn(2,1)\n",
    "\n",
    "for iteration in range(n_iterations):\n",
    "    gradients = 2/m * X_b.T.dot(X_b.dot(theta)-y)\n",
    "    theta = theta - eta * gradients\n",
    "    \n",
    "print(theta)"
   ]
  },
  {
   "cell_type": "markdown",
   "metadata": {},
   "source": [
    "And again similar result to previous methods using normal equation and Moore-Penrose pseudoinverse"
   ]
  },
  {
   "cell_type": "markdown",
   "metadata": {},
   "source": [
    "## Stochastic Gradient Descent\n",
    "\n",
    "Pick random element - decrease the learning rate to converge"
   ]
  },
  {
   "cell_type": "code",
   "execution_count": 56,
   "metadata": {},
   "outputs": [],
   "source": [
    "n_epochs = 50\n",
    "t0, t1 = 5, 50 #learning schedule hyperparameters\n",
    "\n",
    "def learning_schedule(t):\n",
    "    return t0 / (t + t1)"
   ]
  },
  {
   "cell_type": "code",
   "execution_count": 59,
   "metadata": {},
   "outputs": [
    {
     "data": {
      "text/plain": [
       "[<matplotlib.lines.Line2D at 0x7fe276143b90>]"
      ]
     },
     "execution_count": 59,
     "metadata": {},
     "output_type": "execute_result"
    },
    {
     "data": {
      "image/png": "[encoded data removed]",
      "text/plain": [
       "<Figure size 432x288 with 1 Axes>"
      ]
     },
     "metadata": {
      "needs_background": "light"
     },
     "output_type": "display_data"
    }
   ],
   "source": [
    "e = np.linspace(0,50)\n",
    "t_e = learning_schedule(e)\n",
    "plt.plot(e,t_e)"
   ]
  },
  {
   "cell_type": "code",
   "execution_count": 60,
   "metadata": {},
   "outputs": [
    {
     "data": {
      "text/plain": [
       "array([[3.69910121],\n",
       "       [3.1730297 ]])"
      ]
     },
     "execution_count": 60,
     "metadata": {},
     "output_type": "execute_result"
    }
   ],
   "source": [
    "theta = np.random.randn(2,1)\n",
    "\n",
    "for epoch in range(n_epochs):\n",
    "    for i in range(m):\n",
    "        random_index = np.random.randint(m)\n",
    "        xi = X_b[random_index:random_index+1]\n",
    "        yi = y[random_index:random_index+1]\n",
    "        gradients = 2 * xi.T.dot(xi.dot(theta)-yi)\n",
    "        eta = learning_schedule(epoch*m + 1)\n",
    "        theta = theta - eta * gradients\n",
    "        \n",
    "theta"
   ]
  },
  {
   "cell_type": "markdown",
   "metadata": {},
   "source": [
    "And again we got a very similar result, but we went thorugh whole training set 50 times, not 10000."
   ]
  },
  {
   "cell_type": "markdown",
   "metadata": {},
   "source": [
    "# Mini-batch\n",
    "A tradeoff between those two - not too chatoic, not too big dataset - simple to parallelise using GPU and matrix-vector operations"
   ]
  },
  {
   "cell_type": "markdown",
   "metadata": {},
   "source": [
    "# Polynomial regression"
   ]
  },
  {
   "cell_type": "code",
   "execution_count": 66,
   "metadata": {},
   "outputs": [
    {
     "data": {
      "text/plain": [
       "<matplotlib.collections.PathCollection at 0x7fe276008890>"
      ]
     },
     "execution_count": 66,
     "metadata": {},
     "output_type": "execute_result"
    },
    {
     "data": {
      "image/png": "[encoded data removed]",
      "text/plain": [
       "<Figure size 432x288 with 1 Axes>"
      ]
     },
     "metadata": {
      "needs_background": "light"
     },
     "output_type": "display_data"
    }
   ],
   "source": [
    "m = 100\n",
    "X = 6 * np.random.rand(m,1) - 3\n",
    "y = 0.5 * X**2 + X + 2 + np.random.randn(m, 1)\n",
    "plt.scatter(X,y)"
   ]
  },
  {
   "cell_type": "code",
   "execution_count": 67,
   "metadata": {},
   "outputs": [
    {
     "data": {
      "text/plain": [
       "array([-2.58036888])"
      ]
     },
     "execution_count": 67,
     "metadata": {},
     "output_type": "execute_result"
    }
   ],
   "source": [
    "from sklearn.preprocessing import PolynomialFeatures\n",
    "poly_features = PolynomialFeatures(degree=2, include_bias=False)\n",
    "X_poly = poly_features.fit_transform(X)\n",
    "X[0]"
   ]
  },
  {
   "cell_type": "code",
   "execution_count": 68,
   "metadata": {},
   "outputs": [
    {
     "data": {
      "text/plain": [
       "array([-2.58036888,  6.65830357])"
      ]
     },
     "execution_count": 68,
     "metadata": {},
     "output_type": "execute_result"
    }
   ],
   "source": [
    "X_poly[0]"
   ]
  },
  {
   "cell_type": "markdown",
   "metadata": {},
   "source": [
    "`PolynomialFeatures` adds additional powers of the features (like generating new features), and then we can fit it using standard linear regression"
   ]
  },
  {
   "cell_type": "code",
   "execution_count": 70,
   "metadata": {},
   "outputs": [
    {
     "data": {
      "text/plain": [
       "LinearRegression()"
      ]
     },
     "execution_count": 70,
     "metadata": {},
     "output_type": "execute_result"
    }
   ],
   "source": [
    "from sklearn.linear_model import LinearRegression\n",
    "lin_reg = LinearRegression()\n",
    "lin_reg.fit(X_poly,y)"
   ]
  },
  {
   "cell_type": "code",
   "execution_count": 72,
   "metadata": {},
   "outputs": [
    {
     "data": {
      "text/plain": [
       "(array([1.7117108]), array([[1.10241303, 0.53354042]]))"
      ]
     },
     "execution_count": 72,
     "metadata": {},
     "output_type": "execute_result"
    }
   ],
   "source": [
    "lin_reg.intercept_, lin_reg.coef_"
   ]
  },
  {
   "cell_type": "code",
   "execution_count": 104,
   "metadata": {},
   "outputs": [
    {
     "data": {
      "text/plain": [
       "[<matplotlib.lines.Line2D at 0x7fe268ea8c50>]"
      ]
     },
     "execution_count": 104,
     "metadata": {},
     "output_type": "execute_result"
    },
    {
     "data": {
      "image/png": "[encoded data removed]",
      "text/plain": [
       "<Figure size 432x288 with 1 Axes>"
      ]
     },
     "metadata": {
      "needs_background": "light"
     },
     "output_type": "display_data"
    }
   ],
   "source": [
    "x_input_poly = np.linspace(-3,3).reshape(50,1)\n",
    "x_test_poly = poly_features.fit_transform(x_input_poly)\n",
    "y_test_poly_pred = lin_reg.predict(x_test_poly)\n",
    "plt.scatter(X,y)\n",
    "plt.plot(x_input_poly, y_test_poly_pred, \"r-\")\n"
   ]
  },
  {
   "cell_type": "markdown",
   "metadata": {},
   "source": [
    "## Plotting learning curves in sklearn\n",
    "\n",
    "To avoid overfitting or underfitting"
   ]
  },
  {
   "cell_type": "code",
   "execution_count": 114,
   "metadata": {},
   "outputs": [
    {
     "data": {
      "image/png": "[encoded data removed]",
      "text/plain": [
       "<Figure size 432x288 with 1 Axes>"
      ]
     },
     "metadata": {
      "needs_background": "light"
     },
     "output_type": "display_data"
    }
   ],
   "source": [
    "from sklearn.metrics import mean_squared_error\n",
    "from sklearn.model_selection import train_test_split\n",
    "def plot_learning_curves(model, X, Y):\n",
    "    X_train, X_val, y_train, y_val = train_test_split(X,y,test_size=0.2)\n",
    "    train_errors, val_errors = [],[]\n",
    "    for m in range(1,len(X_train)):\n",
    "        model.fit(X_train[:m], y_train[:m])\n",
    "        y_train_predict = model.predict(X_train[:m])\n",
    "        y_val_predict = model.predict(X_val)\n",
    "        train_errors.append(mean_squared_error(y_train[:m], y_train_predict))\n",
    "        val_errors.append(mean_squared_error(y_val, y_val_predict))\n",
    "    plt.plot(np.sqrt(train_errors),\"r-+\", linewidth=2,label=\"train\")\n",
    "    plt.plot(np.sqrt(val_errors), \"b-\", linewidth=3, label=\"val\")\n",
    "    plt.legend()\n",
    "    \n",
    "lin_reg = LinearRegression()\n",
    "plot_learning_curves(lin_reg, X,y)"
   ]
  },
  {
   "cell_type": "markdown",
   "metadata": {},
   "source": [
    "Ok, so we have classic underfitting: \n",
    "- the validation error is high\n",
    "- we have plateau both on validation and train\n",
    "- the more examples we add, the train at beggining has more error\n",
    "- adding more instances won't help, we need to change the model"
   ]
  },
  {
   "cell_type": "code",
   "execution_count": 120,
   "metadata": {},
   "outputs": [
    {
     "data": {
      "image/png": "[encoded data removed]",
      "text/plain": [
       "<Figure size 432x288 with 1 Axes>"
      ]
     },
     "metadata": {
      "needs_background": "light"
     },
     "output_type": "display_data"
    }
   ],
   "source": [
    "from sklearn.pipeline import Pipeline\n",
    "\n",
    "polynomial_regression = Pipeline([\n",
    "    (\"poly_features\", PolynomialFeatures(degree=3, include_bias=False)),\n",
    "    (\"lin_reg\", LinearRegression()),\n",
    "])\n",
    "\n",
    "plot_learning_curves(polynomial_regression,X,y)"
   ]
  },
  {
   "cell_type": "markdown",
   "metadata": {},
   "source": [
    "In the end the train score is higher than validation score, so the model is overfitting"
   ]
  },
  {
   "cell_type": "markdown",
   "metadata": {},
   "source": [
    "## Ridge regression\n",
    "\n",
    "Ridge regression is a regularized version of Linear Regression: a regularization term equal to $\\alpha\\sum_{i=1}^{n}\\theta_{i}^{2}$\n",
    "\n",
    "It is worth noticing that there is no penalty for bias unit. \n",
    "If $\\alpha$ is 0 then it is normal linear regression\n",
    "If $\\alpha$ is very large then it's the horizontal line at height equal to the mean.\n",
    "\n",
    "So, the new cost function is:\n",
    "$$J(\\theta)=MSE(\\theta)+\\alpha\\sum_{i=1}^{n}\\theta_{i}^{2}$$\n",
    "\n",
    "If we take all weights but bias unit weight as the vector $w$, then the ridge regression penalty can be written as $\\frac{1}{2}(\\Vert{w}\\Vert_{2})^{2}$\n",
    "\n",
    "It can be written also as a closed-form solution:\n",
    "$$\\hat{\\theta}=(X^{T}X+\\alpha A)^{-1}X^{T}y$$"
   ]
  },
  {
   "cell_type": "code",
   "execution_count": null,
   "metadata": {},
   "outputs": [],
   "source": []
  }
 ],
 "metadata": {
  "kernelspec": {
   "display_name": "Python 3",
   "language": "python",
   "name": "python3"
  },
  "language_info": {
   "codemirror_mode": {
    "name": "ipython",
    "version": 3
   },
   "file_extension": ".py",
   "mimetype": "text/x-python",
   "name": "python",
   "nbconvert_exporter": "python",
   "pygments_lexer": "ipython3",
   "version": "3.7.7"
  }
 },
 "nbformat": 4,
 "nbformat_minor": 4
}
