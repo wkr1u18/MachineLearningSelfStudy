{
 "cells": [
  {
   "cell_type": "markdown",
   "metadata": {},
   "source": [
    "# Linear regression\n",
    "Two approaches:\n",
    "\n",
    "- Direct \"closed-form\" equation involving either inverse of $A^T*A$ or Moore-Penrose pseudoinverse\n",
    "- Iterative optimisation using Gradient Descent (GD) or its' variants: Stochastic GD, Batch GD and Mini Batch GD\n",
    "\n",
    "Linear Regression model:\n",
    "$$ \\hat{y} = \\theta_{0}+\\theta_{1}x_{1} + \\cdots + \\theta_{n}x_{n}$$\n",
    "\n",
    "Where:\n",
    "- $\\hat{y}$ is a predicted value\n",
    "- $n$ is the number of features\n",
    "- $x_{i}$ is the i-th feature value\n",
    "- $\\theta_{j}$ is the j-th model parameter (including the bias term $\\theta_{0}$ and the feature weights $\\theta_{1}, \\cdots, \\theta_{n}$)\n",
    "\n",
    "In vectorised form:\n",
    "$$\\hat{y}=h_{\\theta}(x)=\\theta \\cdot x$$\n",
    "\n",
    "It's worth remembering that $x_{0}$ is equal to 1 - bias unit\n",
    "\n",
    "Often vectors are represented as column vectors, so if $\\theta$ and $x$ are column vectors then the prediction $\\hat{y}=\\theta^{T}x$\n",
    "\n",
    "MSE cost function for linear model:\n",
    "\n",
    "$MSE(X,h_{\\theta})=\\frac{1}{m}\\sum_{i=1}^{m} (\\theta^{T}x^{(i)}-y^{(i)})^2$\n",
    "\n",
    "## The normal equation\n",
    "\n",
    "$$\\hat{\\theta} = (X^{T}X)^{-1}X^{T}y$$"
   ]
  },
  {
   "cell_type": "code",
   "execution_count": 1,
   "metadata": {},
   "outputs": [
    {
     "data": {
      "text/plain": [
       "<matplotlib.collections.PathCollection at 0x7f7ecbcc34d0>"
      ]
     },
     "execution_count": 1,
     "metadata": {},
     "output_type": "execute_result"
    },
    {
     "data": {
      "image/png": "[encoded data removed]",
      "text/plain": [
       "<Figure size 432x288 with 1 Axes>"
      ]
     },
     "metadata": {
      "needs_background": "light"
     },
     "output_type": "display_data"
    }
   ],
   "source": [
    "import numpy as np\n",
    "\n",
    "X = 2 * np.random.rand(100,1)\n",
    "y = 4 + 3 * X + np.random.randn(100,1)\n",
    "\n",
    "%matplotlib inline\n",
    "import matplotlib.pyplot as plt\n",
    "plt.scatter(X, y)"
   ]
  },
  {
   "cell_type": "code",
   "execution_count": 2,
   "metadata": {},
   "outputs": [
    {
     "data": {
      "text/plain": [
       "array([[1.00000000e+00, 8.79459918e-01],\n",
       "       [1.00000000e+00, 1.27115575e+00],\n",
       "       [1.00000000e+00, 1.36681791e+00],\n",
       "       [1.00000000e+00, 1.05743596e+00],\n",
       "       [1.00000000e+00, 7.31146119e-01],\n",
       "       [1.00000000e+00, 4.63464815e-01],\n",
       "       [1.00000000e+00, 9.17386876e-01],\n",
       "       [1.00000000e+00, 6.71661673e-01],\n",
       "       [1.00000000e+00, 1.93859933e+00],\n",
       "       [1.00000000e+00, 8.47288876e-01],\n",
       "       [1.00000000e+00, 7.05286142e-01],\n",
       "       [1.00000000e+00, 1.40865882e+00],\n",
       "       [1.00000000e+00, 1.25963784e+00],\n",
       "       [1.00000000e+00, 8.44708470e-01],\n",
       "       [1.00000000e+00, 1.41294096e+00],\n",
       "       [1.00000000e+00, 1.27826850e+00],\n",
       "       [1.00000000e+00, 9.42460247e-01],\n",
       "       [1.00000000e+00, 1.56356992e+00],\n",
       "       [1.00000000e+00, 5.14142587e-01],\n",
       "       [1.00000000e+00, 1.94158534e+00],\n",
       "       [1.00000000e+00, 1.95068250e+00],\n",
       "       [1.00000000e+00, 1.47929180e+00],\n",
       "       [1.00000000e+00, 1.13723276e+00],\n",
       "       [1.00000000e+00, 1.28591978e+00],\n",
       "       [1.00000000e+00, 1.39047699e+00],\n",
       "       [1.00000000e+00, 1.53324160e+00],\n",
       "       [1.00000000e+00, 3.49792622e-01],\n",
       "       [1.00000000e+00, 6.75938138e-01],\n",
       "       [1.00000000e+00, 6.42906544e-02],\n",
       "       [1.00000000e+00, 1.93256504e-01],\n",
       "       [1.00000000e+00, 3.93152405e-01],\n",
       "       [1.00000000e+00, 1.11709939e+00],\n",
       "       [1.00000000e+00, 9.60170282e-01],\n",
       "       [1.00000000e+00, 1.52507935e+00],\n",
       "       [1.00000000e+00, 2.44461824e-01],\n",
       "       [1.00000000e+00, 7.85579495e-01],\n",
       "       [1.00000000e+00, 1.37666210e+00],\n",
       "       [1.00000000e+00, 8.27522689e-01],\n",
       "       [1.00000000e+00, 2.79503313e-01],\n",
       "       [1.00000000e+00, 2.01691299e-01],\n",
       "       [1.00000000e+00, 1.79689826e+00],\n",
       "       [1.00000000e+00, 1.53176626e+00],\n",
       "       [1.00000000e+00, 6.68142269e-01],\n",
       "       [1.00000000e+00, 1.17661762e+00],\n",
       "       [1.00000000e+00, 9.55813462e-01],\n",
       "       [1.00000000e+00, 1.41813783e+00],\n",
       "       [1.00000000e+00, 1.95130889e+00],\n",
       "       [1.00000000e+00, 1.56609045e+00],\n",
       "       [1.00000000e+00, 2.93630406e-01],\n",
       "       [1.00000000e+00, 1.46668403e+00],\n",
       "       [1.00000000e+00, 1.19249842e+00],\n",
       "       [1.00000000e+00, 1.41882006e+00],\n",
       "       [1.00000000e+00, 7.26737477e-01],\n",
       "       [1.00000000e+00, 4.12570986e-01],\n",
       "       [1.00000000e+00, 8.57482023e-01],\n",
       "       [1.00000000e+00, 1.90660696e+00],\n",
       "       [1.00000000e+00, 1.90976665e+00],\n",
       "       [1.00000000e+00, 6.82403291e-01],\n",
       "       [1.00000000e+00, 6.87948678e-01],\n",
       "       [1.00000000e+00, 1.95207514e+00],\n",
       "       [1.00000000e+00, 4.94865262e-01],\n",
       "       [1.00000000e+00, 1.15237614e-01],\n",
       "       [1.00000000e+00, 7.59043118e-01],\n",
       "       [1.00000000e+00, 1.54180300e+00],\n",
       "       [1.00000000e+00, 6.91708401e-02],\n",
       "       [1.00000000e+00, 1.65989652e+00],\n",
       "       [1.00000000e+00, 3.63564368e-01],\n",
       "       [1.00000000e+00, 1.24564925e+00],\n",
       "       [1.00000000e+00, 1.95231165e+00],\n",
       "       [1.00000000e+00, 1.50311378e+00],\n",
       "       [1.00000000e+00, 1.86065334e-01],\n",
       "       [1.00000000e+00, 7.83609601e-01],\n",
       "       [1.00000000e+00, 1.39614760e+00],\n",
       "       [1.00000000e+00, 5.88633681e-01],\n",
       "       [1.00000000e+00, 1.58930259e+00],\n",
       "       [1.00000000e+00, 1.34743712e+00],\n",
       "       [1.00000000e+00, 1.54049931e+00],\n",
       "       [1.00000000e+00, 1.59409666e+00],\n",
       "       [1.00000000e+00, 1.47357605e+00],\n",
       "       [1.00000000e+00, 1.92099719e+00],\n",
       "       [1.00000000e+00, 3.32782886e-01],\n",
       "       [1.00000000e+00, 1.89588457e+00],\n",
       "       [1.00000000e+00, 1.87340059e+00],\n",
       "       [1.00000000e+00, 9.14329819e-01],\n",
       "       [1.00000000e+00, 1.21240413e+00],\n",
       "       [1.00000000e+00, 1.43623180e+00],\n",
       "       [1.00000000e+00, 1.32130437e-01],\n",
       "       [1.00000000e+00, 1.04950740e+00],\n",
       "       [1.00000000e+00, 1.42433810e+00],\n",
       "       [1.00000000e+00, 1.65342426e+00],\n",
       "       [1.00000000e+00, 5.45401702e-01],\n",
       "       [1.00000000e+00, 8.49363656e-01],\n",
       "       [1.00000000e+00, 8.04607741e-01],\n",
       "       [1.00000000e+00, 1.05241944e+00],\n",
       "       [1.00000000e+00, 1.11502047e+00],\n",
       "       [1.00000000e+00, 8.37410554e-01],\n",
       "       [1.00000000e+00, 4.80829702e-01],\n",
       "       [1.00000000e+00, 7.78660119e-03],\n",
       "       [1.00000000e+00, 8.47457882e-01],\n",
       "       [1.00000000e+00, 1.11460275e-03]])"
      ]
     },
     "execution_count": 2,
     "metadata": {},
     "output_type": "execute_result"
    }
   ],
   "source": [
    "# Add bias vector for each data point\n",
    "\n",
    "X_b = np.c_[np.ones((100,1)), X]\n",
    "X_b"
   ]
  },
  {
   "cell_type": "code",
   "execution_count": 3,
   "metadata": {},
   "outputs": [],
   "source": [
    "theta_best = np.linalg.inv(X_b.T.dot(X_b)).dot(X_b.T).dot(y)"
   ]
  },
  {
   "cell_type": "code",
   "execution_count": 4,
   "metadata": {},
   "outputs": [
    {
     "data": {
      "text/plain": [
       "array([[3.83472509],\n",
       "       [3.21321287]])"
      ]
     },
     "execution_count": 4,
     "metadata": {},
     "output_type": "execute_result"
    }
   ],
   "source": [
    "theta_best"
   ]
  },
  {
   "cell_type": "code",
   "execution_count": 5,
   "metadata": {},
   "outputs": [
    {
     "data": {
      "text/plain": [
       "[<matplotlib.lines.Line2D at 0x7f7e94ffa550>]"
      ]
     },
     "execution_count": 5,
     "metadata": {},
     "output_type": "execute_result"
    },
    {
     "data": {
      "image/png": "[encoded data removed]",
      "text/plain": [
       "<Figure size 432x288 with 1 Axes>"
      ]
     },
     "metadata": {
      "needs_background": "light"
     },
     "output_type": "display_data"
    }
   ],
   "source": [
    "X_new = np.array([[0],[2]])\n",
    "X_new_b = np.c_[np.ones((2,1)), X_new]\n",
    "y_predict = X_new_b.dot(theta_best)\n",
    "plt.plot(X_new, y_predict, \"r-\")\n",
    "plt.plot(X,y, \"b.\")"
   ]
  },
  {
   "cell_type": "markdown",
   "metadata": {},
   "source": [
    "## Moore-Penrose pseudoinverse\n",
    "\n",
    "Normal equation computers the inverse of $(n+1) \\cdot (n+1)$ sized matrix, and inverting the matrix takes between $O(n^{2,4})$ and $O(n^3)$, so if you double the number of features the computation time grows by roughly 5.3 to 8 times. Also $A^{T}A$ might not be invertible (eg. m<n or it is singular). There is another method which is called Moore-Penrose pseudoinverse and involves decomposition into SVD:\n",
    "$$X=U\\Sigma V^{T}$$ and then taking the reciporial of $\\Sigma$, so the pseudoinverse is:\n",
    "$$X^{+}=V\\Sigma^{+}U^{T}$$\n"
   ]
  },
  {
   "cell_type": "code",
   "execution_count": 6,
   "metadata": {},
   "outputs": [
    {
     "data": {
      "text/plain": [
       "array([[3.83472509],\n",
       "       [3.21321287]])"
      ]
     },
     "execution_count": 6,
     "metadata": {},
     "output_type": "execute_result"
    }
   ],
   "source": [
    "n = 100\n",
    "U, s, VT = np.linalg.svd(X_b)\n",
    "Sigma = np.concatenate((np.diag(1/s),np.zeros((n-s.size,s.size))),axis=0)\n",
    "X_hat = U.dot(Sigma.dot(VT))\n",
    "X_hat.T.dot(y)"
   ]
  },
  {
   "cell_type": "markdown",
   "metadata": {},
   "source": [
    "Basically same result as closed form equation."
   ]
  },
  {
   "cell_type": "markdown",
   "metadata": {},
   "source": [
    "# Batch gradient descent\n",
    "Partial derivatives of cost function:\n",
    "\n",
    "$$\\frac{\\delta}{\\delta\\theta_{j}}MSE(\\theta)=\\frac{2}{m}\\sum_{i=1}^{m}(\\theta^{T}x^{(i)}-y^{(i)})x_{j}^{(i)}$$\n",
    "\n",
    "Gradient vector of the cost function:\n",
    "$$\\nabla_{\\theta}MSE(\\theta)=\\begin{pmatrix}\n",
    "\\frac{\\delta}{\\delta\\theta_{0}}MSE(\\theta) \\\\\n",
    "\\frac{\\delta}{\\delta\\theta_{1}}MSE(\\theta) \\\\\n",
    "\\cdots \\\\\n",
    "\\frac{\\delta}{\\delta\\theta_{n}}MSE(\\theta)\n",
    "\\end{pmatrix}=\\frac{2}{m}X^{T}(X\\theta - y)$$\n",
    "\n",
    "Gradient Descent step:\n",
    "$$\\theta^{(i+1)}=\\theta - \\eta\\nabla_{\\theta}MSE(\\theta)$$\n",
    "where $\\eta$ is the learning rate"
   ]
  },
  {
   "cell_type": "code",
   "execution_count": 7,
   "metadata": {},
   "outputs": [
    {
     "name": "stdout",
     "output_type": "stream",
     "text": [
      "[[3.83472509]\n",
      " [3.21321287]]\n"
     ]
    }
   ],
   "source": [
    "eta = 0.1 #learning rate \n",
    "n_iterations = 1000\n",
    "m = 100 #size of dataset\n",
    "\n",
    "theta = np.random.randn(2,1)\n",
    "\n",
    "for iteration in range(n_iterations):\n",
    "    gradients = 2/m * X_b.T.dot(X_b.dot(theta)-y)\n",
    "    theta = theta - eta * gradients\n",
    "    \n",
    "print(theta)"
   ]
  },
  {
   "cell_type": "markdown",
   "metadata": {},
   "source": [
    "And again similar result to previous methods using normal equation and Moore-Penrose pseudoinverse"
   ]
  },
  {
   "cell_type": "markdown",
   "metadata": {},
   "source": [
    "## Stochastic Gradient Descent\n",
    "\n",
    "Pick random element - decrease the learning rate to converge"
   ]
  },
  {
   "cell_type": "code",
   "execution_count": 8,
   "metadata": {},
   "outputs": [],
   "source": [
    "n_epochs = 50\n",
    "t0, t1 = 5, 50 #learning schedule hyperparameters\n",
    "\n",
    "def learning_schedule(t):\n",
    "    return t0 / (t + t1)"
   ]
  },
  {
   "cell_type": "code",
   "execution_count": 9,
   "metadata": {},
   "outputs": [
    {
     "data": {
      "text/plain": [
       "[<matplotlib.lines.Line2D at 0x7f7e94f706d0>]"
      ]
     },
     "execution_count": 9,
     "metadata": {},
     "output_type": "execute_result"
    },
    {
     "data": {
      "image/png": "[encoded data removed]",
      "text/plain": [
       "<Figure size 432x288 with 1 Axes>"
      ]
     },
     "metadata": {
      "needs_background": "light"
     },
     "output_type": "display_data"
    }
   ],
   "source": [
    "e = np.linspace(0,50)\n",
    "t_e = learning_schedule(e)\n",
    "plt.plot(e,t_e)"
   ]
  },
  {
   "cell_type": "code",
   "execution_count": 10,
   "metadata": {},
   "outputs": [
    {
     "data": {
      "text/plain": [
       "array([[3.83340587],\n",
       "       [3.20667069]])"
      ]
     },
     "execution_count": 10,
     "metadata": {},
     "output_type": "execute_result"
    }
   ],
   "source": [
    "theta = np.random.randn(2,1)\n",
    "\n",
    "for epoch in range(n_epochs):\n",
    "    for i in range(m):\n",
    "        random_index = np.random.randint(m)\n",
    "        xi = X_b[random_index:random_index+1]\n",
    "        yi = y[random_index:random_index+1]\n",
    "        gradients = 2 * xi.T.dot(xi.dot(theta)-yi)\n",
    "        eta = learning_schedule(epoch*m + 1)\n",
    "        theta = theta - eta * gradients\n",
    "        \n",
    "theta"
   ]
  },
  {
   "cell_type": "markdown",
   "metadata": {},
   "source": [
    "And again we got a very similar result, but we went thorugh whole training set 50 times, not 10000."
   ]
  },
  {
   "cell_type": "markdown",
   "metadata": {},
   "source": [
    "# Mini-batch\n",
    "A tradeoff between those two - not too chatoic, not too big dataset - simple to parallelise using GPU and matrix-vector operations"
   ]
  },
  {
   "cell_type": "markdown",
   "metadata": {},
   "source": [
    "# Polynomial regression"
   ]
  },
  {
   "cell_type": "code",
   "execution_count": 11,
   "metadata": {},
   "outputs": [
    {
     "data": {
      "text/plain": [
       "<matplotlib.collections.PathCollection at 0x7f7e94f58e90>"
      ]
     },
     "execution_count": 11,
     "metadata": {},
     "output_type": "execute_result"
    },
    {
     "data": {
      "image/png": "[encoded data removed]",
      "text/plain": [
       "<Figure size 432x288 with 1 Axes>"
      ]
     },
     "metadata": {
      "needs_background": "light"
     },
     "output_type": "display_data"
    }
   ],
   "source": [
    "m = 100\n",
    "X = 6 * np.random.rand(m,1) - 3\n",
    "y = 0.5 * X**2 + X + 2 + np.random.randn(m, 1)\n",
    "plt.scatter(X,y)"
   ]
  },
  {
   "cell_type": "code",
   "execution_count": 12,
   "metadata": {},
   "outputs": [
    {
     "data": {
      "text/plain": [
       "array([-0.61924355])"
      ]
     },
     "execution_count": 12,
     "metadata": {},
     "output_type": "execute_result"
    }
   ],
   "source": [
    "from sklearn.preprocessing import PolynomialFeatures\n",
    "poly_features = PolynomialFeatures(degree=2, include_bias=False)\n",
    "X_poly = poly_features.fit_transform(X)\n",
    "X[0]"
   ]
  },
  {
   "cell_type": "code",
   "execution_count": 13,
   "metadata": {},
   "outputs": [
    {
     "data": {
      "text/plain": [
       "array([-0.61924355,  0.38346257])"
      ]
     },
     "execution_count": 13,
     "metadata": {},
     "output_type": "execute_result"
    }
   ],
   "source": [
    "X_poly[0]"
   ]
  },
  {
   "cell_type": "markdown",
   "metadata": {},
   "source": [
    "`PolynomialFeatures` adds additional powers of the features (like generating new features), and then we can fit it using standard linear regression"
   ]
  },
  {
   "cell_type": "code",
   "execution_count": 14,
   "metadata": {},
   "outputs": [
    {
     "data": {
      "text/plain": [
       "LinearRegression()"
      ]
     },
     "execution_count": 14,
     "metadata": {},
     "output_type": "execute_result"
    }
   ],
   "source": [
    "from sklearn.linear_model import LinearRegression\n",
    "lin_reg = LinearRegression()\n",
    "lin_reg.fit(X_poly,y)"
   ]
  },
  {
   "cell_type": "code",
   "execution_count": 15,
   "metadata": {},
   "outputs": [
    {
     "data": {
      "text/plain": [
       "(array([2.12808863]), array([[1.01981147, 0.44040921]]))"
      ]
     },
     "execution_count": 15,
     "metadata": {},
     "output_type": "execute_result"
    }
   ],
   "source": [
    "lin_reg.intercept_, lin_reg.coef_"
   ]
  },
  {
   "cell_type": "code",
   "execution_count": 16,
   "metadata": {},
   "outputs": [
    {
     "data": {
      "text/plain": [
       "[<matplotlib.lines.Line2D at 0x7f7e8862c290>]"
      ]
     },
     "execution_count": 16,
     "metadata": {},
     "output_type": "execute_result"
    },
    {
     "data": {
      "image/png": "[encoded data removed]",
      "text/plain": [
       "<Figure size 432x288 with 1 Axes>"
      ]
     },
     "metadata": {
      "needs_background": "light"
     },
     "output_type": "display_data"
    }
   ],
   "source": [
    "x_input_poly = np.linspace(-3,3).reshape(50,1)\n",
    "x_test_poly = poly_features.fit_transform(x_input_poly)\n",
    "y_test_poly_pred = lin_reg.predict(x_test_poly)\n",
    "plt.scatter(X,y)\n",
    "plt.plot(x_input_poly, y_test_poly_pred, \"r-\")\n"
   ]
  },
  {
   "cell_type": "markdown",
   "metadata": {},
   "source": [
    "## Plotting learning curves in sklearn\n",
    "\n",
    "To avoid overfitting or underfitting"
   ]
  },
  {
   "cell_type": "code",
   "execution_count": 17,
   "metadata": {},
   "outputs": [
    {
     "data": {
      "image/png": "[encoded data removed]",
      "text/plain": [
       "<Figure size 432x288 with 1 Axes>"
      ]
     },
     "metadata": {
      "needs_background": "light"
     },
     "output_type": "display_data"
    }
   ],
   "source": [
    "from sklearn.metrics import mean_squared_error\n",
    "from sklearn.model_selection import train_test_split\n",
    "def plot_learning_curves(model, X, Y):\n",
    "    X_train, X_val, y_train, y_val = train_test_split(X,y,test_size=0.2)\n",
    "    train_errors, val_errors = [],[]\n",
    "    for m in range(1,len(X_train)):\n",
    "        model.fit(X_train[:m], y_train[:m])\n",
    "        y_train_predict = model.predict(X_train[:m])\n",
    "        y_val_predict = model.predict(X_val)\n",
    "        train_errors.append(mean_squared_error(y_train[:m], y_train_predict))\n",
    "        val_errors.append(mean_squared_error(y_val, y_val_predict))\n",
    "    plt.plot(np.sqrt(train_errors),\"r-+\", linewidth=2,label=\"train\")\n",
    "    plt.plot(np.sqrt(val_errors), \"b-\", linewidth=3, label=\"val\")\n",
    "    plt.legend()\n",
    "    \n",
    "lin_reg = LinearRegression()\n",
    "plot_learning_curves(lin_reg, X,y)"
   ]
  },
  {
   "cell_type": "markdown",
   "metadata": {},
   "source": [
    "Ok, so we have classic underfitting: \n",
    "- the validation error is high\n",
    "- we have plateau both on validation and train\n",
    "- the more examples we add, the train at beggining has more error\n",
    "- adding more instances won't help, we need to change the model"
   ]
  },
  {
   "cell_type": "code",
   "execution_count": 18,
   "metadata": {},
   "outputs": [
    {
     "data": {
      "image/png": "[encoded data removed]",
      "text/plain": [
       "<Figure size 432x288 with 1 Axes>"
      ]
     },
     "metadata": {
      "needs_background": "light"
     },
     "output_type": "display_data"
    }
   ],
   "source": [
    "from sklearn.pipeline import Pipeline\n",
    "\n",
    "polynomial_regression = Pipeline([\n",
    "    (\"poly_features\", PolynomialFeatures(degree=3, include_bias=False)),\n",
    "    (\"lin_reg\", LinearRegression()),\n",
    "])\n",
    "\n",
    "plot_learning_curves(polynomial_regression,X,y)"
   ]
  },
  {
   "cell_type": "markdown",
   "metadata": {},
   "source": [
    "In the end the train score is higher than validation score, so the model is overfitting"
   ]
  },
  {
   "cell_type": "markdown",
   "metadata": {},
   "source": [
    "## Ridge regression\n",
    "\n",
    "Ridge regression is a regularized version of Linear Regression: a regularization term equal to $\\alpha\\sum_{i=1}^{n}\\theta_{i}^{2}$\n",
    "\n",
    "It is worth noticing that there is no penalty for bias unit. \n",
    "If $\\alpha$ is 0 then it is normal linear regression\n",
    "If $\\alpha$ is very large then it's the horizontal line at height equal to the mean.\n",
    "\n",
    "So, the new cost function is:\n",
    "$$J(\\theta)=MSE(\\theta)+\\alpha\\sum_{i=1}^{n}\\theta_{i}^{2}$$\n",
    "\n",
    "If we take all weights but bias unit weight as the vector $w$, then the ridge regression penalty can be written as $\\frac{1}{2}(\\Vert{w}\\Vert_{2})^{2}$\n",
    "\n",
    "It can be written also as a closed-form solution:\n",
    "$$\\hat{\\theta}=(X^{T}X+\\alpha A)^{-1}X^{T}y$$"
   ]
  },
  {
   "cell_type": "markdown",
   "metadata": {},
   "source": [
    "## Lasso regression\n",
    "\n",
    "Least Absolute Shrinkage and Selection Operator Regression. It is very similar to ridge regression but uses $\\ell_{1}$ norm instead of euclidean $\\ell_{2}$ norm. The cost function is:\n",
    "$$J(\\theta)=MSE(\\theta)+\\alpha\\sum_{i=1}^{n}|\\theta_{i}|$$\n",
    "\n",
    "The function is not differentiable, when theta is zero, so we use subgradient vector where we use signs of the thetas."
   ]
  },
  {
   "cell_type": "markdown",
   "metadata": {},
   "source": [
    "## Elastic net\n",
    "\n",
    "A middle ground between Ridge and Lasso. Regularization term is a mix of both Ridge and Lasso, controlled by mix ratio $r$. When it is 0, we have ridge regression, and if its 1 then we have lasso.\n",
    "$$J(\\theta)=MSE(\\theta)+r\\alpha\\sum_{i=1}^{n}|\\theta_{i}|+\\frac{1-r}{1}\\alpha\\sum_{i=1}^{n}\\theta_{i}^{2}$$"
   ]
  },
  {
   "cell_type": "code",
   "execution_count": 21,
   "metadata": {},
   "outputs": [
    {
     "data": {
      "text/plain": [
       "array([4.94143662])"
      ]
     },
     "execution_count": 21,
     "metadata": {},
     "output_type": "execute_result"
    }
   ],
   "source": [
    "from sklearn.linear_model import ElasticNet\n",
    "elastic_net = ElasticNet(alpha=0.1, l1_ratio=0.5)\n",
    "elastic_net.fit(X,y)\n",
    "elastic_net.predict([[1.5]])"
   ]
  },
  {
   "cell_type": "markdown",
   "metadata": {},
   "source": [
    "## Logistic regression\n",
    "The model is:\n",
    "$$\\hat{p}=h_{\\theta}(x)=\\sigma(x^{T}\\theta)$$\n",
    "\n",
    "Where, the sigma is:\n",
    "$$\\sigma(t)=\\frac{1}{1+e^{-t}}$$\n",
    "\n",
    "The cost function of single training instance is:\n",
    "        $$c(\\theta)=\\begin{cases}-log(\\hat{p}) \\text{ if }y=1 \\\\ -log(1-\\hat{p}) \\text{ if } y=0\\end{cases}$$\n",
    "        \n",
    "We can average it over all training instances and get the log loss:\n",
    "$$J(\\theta)=-\\frac{1}{m}\\sum_{i=1}^{m}[y^{(i)}log(\\hat{p}^{i})+(1-y^{(i)})log(1-\\hat{p}^{(i)})]$$\n",
    "\n",
    "There is no closed form solution, but the error function is convex so we can use GD.\n",
    "\n",
    "The partial derrivatives of logistic cost function are given by:\n",
    "$$\\frac{\\delta}{\\delta\\theta_{j}}J(\\theta)=\\frac{1}{m}\\sum_{i=1}^{m}(\\sigma(\\theta^{T}x^{(i)})-y^{(i)})x_{j}^{(i)}$$"
   ]
  },
  {
   "cell_type": "code",
   "execution_count": 22,
   "metadata": {},
   "outputs": [
    {
     "data": {
      "text/plain": [
       "['data',\n",
       " 'target',\n",
       " 'frame',\n",
       " 'target_names',\n",
       " 'DESCR',\n",
       " 'feature_names',\n",
       " 'filename']"
      ]
     },
     "execution_count": 22,
     "metadata": {},
     "output_type": "execute_result"
    }
   ],
   "source": [
    "from sklearn import datasets\n",
    "iris = datasets.load_iris()\n",
    "list(iris.keys())"
   ]
  },
  {
   "cell_type": "code",
   "execution_count": 23,
   "metadata": {},
   "outputs": [],
   "source": [
    "X = iris[\"data\"][:,3:] # petal width\n",
    "y = (iris[\"target\"] == 2).astype(np.int)"
   ]
  },
  {
   "cell_type": "code",
   "execution_count": 24,
   "metadata": {},
   "outputs": [
    {
     "data": {
      "text/plain": [
       "LogisticRegression()"
      ]
     },
     "execution_count": 24,
     "metadata": {},
     "output_type": "execute_result"
    }
   ],
   "source": [
    "from sklearn.linear_model import LogisticRegression\n",
    "log_reg = LogisticRegression()\n",
    "log_reg.fit(X,y)"
   ]
  },
  {
   "cell_type": "markdown",
   "metadata": {},
   "source": [
    "Now let's look at the model's estimated probabilities for flowers with petal widths varying from 0 cm to 3 cm"
   ]
  },
  {
   "cell_type": "code",
   "execution_count": 28,
   "metadata": {},
   "outputs": [
    {
     "data": {
      "text/plain": [
       "<matplotlib.legend.Legend at 0x7f7e8763fd50>"
      ]
     },
     "execution_count": 28,
     "metadata": {},
     "output_type": "execute_result"
    },
    {
     "data": {
      "image/png": "[encoded data removed]",
      "text/plain": [
       "<Figure size 432x288 with 1 Axes>"
      ]
     },
     "metadata": {
      "needs_background": "light"
     },
     "output_type": "display_data"
    }
   ],
   "source": [
    "X_new = np.linspace(0,3,100).reshape(-1,1)\n",
    "y_proba = log_reg.predict_proba(X_new)\n",
    "plt.plot(X_new,y_proba[:,1],\"g-\", label=\"Iris virginica\")\n",
    "plt.plot(X_new, y_proba[:,0],\"b--\", label=\"Not iris virginica\")\n",
    "plt.xlabel(\"Petal width (cm)\")\n",
    "plt.ylabel(\"Probability\")\n",
    "plt.legend()"
   ]
  },
  {
   "cell_type": "markdown",
   "metadata": {},
   "source": [
    "## Softmax Regression\n",
    "\n",
    "Multiclass generalization of logistic regression. Can do multiclass classification, but can't do multioutput regression.\n",
    "\n",
    "Softmax score for class k:\n",
    "$$s_{k}=x^{T}\\theta^{(k)}$$\n",
    "\n",
    "Each class has its own dedicated parameter vector $\\theta^{k}$. All these vectors are typically stored as rows in a parameter matrix $\\Theta$\n",
    "\n",
    "The softmax function is:\n",
    "$$\\hat{p}_{k}=\\sigma(s(x))_{k}=\\frac{exp(s_{k}(x))}{\\sum_{j=1}^{K}exp(s_{j}(x))}$$\n",
    "\n",
    "$s(x)$ is a vector containing the scores of each class for the instance x.\n",
    "\n",
    "Softmax Regression classifier prediction\n",
    "$$\\hat{y}=argmax_{k}\\sigma(s(x))_{k}=argmax_{k}s_{k}(x)=argmax_{k}((\\theta^{(k)})^{T}x)$$\n",
    "\n",
    "Cross entropy cost function:\n",
    "$$J(\\Theta)=-\\frac{1}{m}\\sum_{i=1}^{m}\\sum_{k=1}^{K}y_{k}^{i}log(\\hat{p}_{k}^{(i)})$$\n",
    "\n",
    "Cross entropy gradine vector for class k\n",
    "$$\\nabla_{\\theta^{(k)}}\\frac{1}{m}\\sum_{i=1}^{m}(\\hat{p}_{k}^{(i)}-y_{k}^{(i)})x^{(i)}$$\n",
    "\n",
    "We can compute the gradient vector for every class and use gradient Descent to find the paramteter matrix $\\Theta$ that minimizes the cost function"
   ]
  },
  {
   "cell_type": "code",
   "execution_count": 29,
   "metadata": {},
   "outputs": [
    {
     "data": {
      "text/plain": [
       "array([2])"
      ]
     },
     "execution_count": 29,
     "metadata": {},
     "output_type": "execute_result"
    }
   ],
   "source": [
    "X = iris[\"data\"][:,(2,3)] #petal length, petal width\n",
    "y = iris[\"target\"]\n",
    "\n",
    "softmax_reg = LogisticRegression(multi_class=\"multinomial\",solver=\"lbfgs\",C=10)\n",
    "softmax_reg.fit(X,y)\n",
    "softmax_reg.predict([[5,2]])"
   ]
  },
  {
   "cell_type": "code",
   "execution_count": 30,
   "metadata": {},
   "outputs": [
    {
     "data": {
      "text/plain": [
       "array([[6.38014896e-07, 5.74929995e-02, 9.42506362e-01]])"
      ]
     },
     "execution_count": 30,
     "metadata": {},
     "output_type": "execute_result"
    }
   ],
   "source": [
    "softmax_reg.predict_proba([[5,2]])"
   ]
  },
  {
   "cell_type": "code",
   "execution_count": null,
   "metadata": {},
   "outputs": [],
   "source": []
  }
 ],
 "metadata": {
  "kernelspec": {
   "display_name": "Python 3",
   "language": "python",
   "name": "python3"
  },
  "language_info": {
   "codemirror_mode": {
    "name": "ipython",
    "version": 3
   },
   "file_extension": ".py",
   "mimetype": "text/x-python",
   "name": "python",
   "nbconvert_exporter": "python",
   "pygments_lexer": "ipython3",
   "version": "3.7.7"
  }
 },
 "nbformat": 4,
 "nbformat_minor": 4
}
